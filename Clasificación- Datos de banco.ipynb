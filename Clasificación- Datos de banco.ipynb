{
 "cells": [
  {
   "cell_type": "markdown",
   "metadata": {},
   "source": [
    "Data obtenida de kaggle de https://www.kaggle.com/sriharipramod/bank-loan-classification\n",
    "\n",
    "* El objetivo es determnar si la persona clasifica para un prestamo personal (personal Loan)\n",
    "* Se usaran distintos metodos de clasificacion y se determinara cual tiene un mejor rendimiento."
   ]
  },
  {
   "cell_type": "code",
   "execution_count": 1,
   "metadata": {},
   "outputs": [],
   "source": [
    "import pandas as pd\n",
    "import matplotlib.pyplot as plt\n",
    "import seaborn as sns\n",
    "import numpy as np\n",
    "import math\n",
    "from IPython.display import Image\n"
   ]
  },
  {
   "cell_type": "code",
   "execution_count": 2,
   "metadata": {},
   "outputs": [
    {
     "ename": "FileNotFoundError",
     "evalue": "[Errno 2] File C:\\Users\\56974\\GitHub\\archivos mios\\clasificacion\\personal loan banco\\UniversalBank.csv does not exist: 'C:\\\\Users\\\\56974\\\\GitHub\\\\archivos mios\\\\clasificacion\\\\personal loan banco\\\\UniversalBank.csv'",
     "output_type": "error",
     "traceback": [
      "\u001b[1;31m---------------------------------------------------------------------------\u001b[0m",
      "\u001b[1;31mFileNotFoundError\u001b[0m                         Traceback (most recent call last)",
      "\u001b[1;32m<ipython-input-2-214fda60c91e>\u001b[0m in \u001b[0;36m<module>\u001b[1;34m\u001b[0m\n\u001b[1;32m----> 1\u001b[1;33m \u001b[0mdata\u001b[0m\u001b[1;33m=\u001b[0m\u001b[0mpd\u001b[0m\u001b[1;33m.\u001b[0m\u001b[0mread_csv\u001b[0m\u001b[1;33m(\u001b[0m\u001b[1;34mr'C:\\Users\\56974\\GitHub\\archivos mios\\clasificacion\\personal loan banco\\UniversalBank.csv'\u001b[0m\u001b[1;33m)\u001b[0m\u001b[1;33m\u001b[0m\u001b[1;33m\u001b[0m\u001b[0m\n\u001b[0m",
      "\u001b[1;32mD:\\Users\\German\\anaconda3\\lib\\site-packages\\pandas\\io\\parsers.py\u001b[0m in \u001b[0;36mparser_f\u001b[1;34m(filepath_or_buffer, sep, delimiter, header, names, index_col, usecols, squeeze, prefix, mangle_dupe_cols, dtype, engine, converters, true_values, false_values, skipinitialspace, skiprows, skipfooter, nrows, na_values, keep_default_na, na_filter, verbose, skip_blank_lines, parse_dates, infer_datetime_format, keep_date_col, date_parser, dayfirst, cache_dates, iterator, chunksize, compression, thousands, decimal, lineterminator, quotechar, quoting, doublequote, escapechar, comment, encoding, dialect, error_bad_lines, warn_bad_lines, delim_whitespace, low_memory, memory_map, float_precision)\u001b[0m\n\u001b[0;32m    674\u001b[0m         )\n\u001b[0;32m    675\u001b[0m \u001b[1;33m\u001b[0m\u001b[0m\n\u001b[1;32m--> 676\u001b[1;33m         \u001b[1;32mreturn\u001b[0m \u001b[0m_read\u001b[0m\u001b[1;33m(\u001b[0m\u001b[0mfilepath_or_buffer\u001b[0m\u001b[1;33m,\u001b[0m \u001b[0mkwds\u001b[0m\u001b[1;33m)\u001b[0m\u001b[1;33m\u001b[0m\u001b[1;33m\u001b[0m\u001b[0m\n\u001b[0m\u001b[0;32m    677\u001b[0m \u001b[1;33m\u001b[0m\u001b[0m\n\u001b[0;32m    678\u001b[0m     \u001b[0mparser_f\u001b[0m\u001b[1;33m.\u001b[0m\u001b[0m__name__\u001b[0m \u001b[1;33m=\u001b[0m \u001b[0mname\u001b[0m\u001b[1;33m\u001b[0m\u001b[1;33m\u001b[0m\u001b[0m\n",
      "\u001b[1;32mD:\\Users\\German\\anaconda3\\lib\\site-packages\\pandas\\io\\parsers.py\u001b[0m in \u001b[0;36m_read\u001b[1;34m(filepath_or_buffer, kwds)\u001b[0m\n\u001b[0;32m    446\u001b[0m \u001b[1;33m\u001b[0m\u001b[0m\n\u001b[0;32m    447\u001b[0m     \u001b[1;31m# Create the parser.\u001b[0m\u001b[1;33m\u001b[0m\u001b[1;33m\u001b[0m\u001b[1;33m\u001b[0m\u001b[0m\n\u001b[1;32m--> 448\u001b[1;33m     \u001b[0mparser\u001b[0m \u001b[1;33m=\u001b[0m \u001b[0mTextFileReader\u001b[0m\u001b[1;33m(\u001b[0m\u001b[0mfp_or_buf\u001b[0m\u001b[1;33m,\u001b[0m \u001b[1;33m**\u001b[0m\u001b[0mkwds\u001b[0m\u001b[1;33m)\u001b[0m\u001b[1;33m\u001b[0m\u001b[1;33m\u001b[0m\u001b[0m\n\u001b[0m\u001b[0;32m    449\u001b[0m \u001b[1;33m\u001b[0m\u001b[0m\n\u001b[0;32m    450\u001b[0m     \u001b[1;32mif\u001b[0m \u001b[0mchunksize\u001b[0m \u001b[1;32mor\u001b[0m \u001b[0miterator\u001b[0m\u001b[1;33m:\u001b[0m\u001b[1;33m\u001b[0m\u001b[1;33m\u001b[0m\u001b[0m\n",
      "\u001b[1;32mD:\\Users\\German\\anaconda3\\lib\\site-packages\\pandas\\io\\parsers.py\u001b[0m in \u001b[0;36m__init__\u001b[1;34m(self, f, engine, **kwds)\u001b[0m\n\u001b[0;32m    878\u001b[0m             \u001b[0mself\u001b[0m\u001b[1;33m.\u001b[0m\u001b[0moptions\u001b[0m\u001b[1;33m[\u001b[0m\u001b[1;34m\"has_index_names\"\u001b[0m\u001b[1;33m]\u001b[0m \u001b[1;33m=\u001b[0m \u001b[0mkwds\u001b[0m\u001b[1;33m[\u001b[0m\u001b[1;34m\"has_index_names\"\u001b[0m\u001b[1;33m]\u001b[0m\u001b[1;33m\u001b[0m\u001b[1;33m\u001b[0m\u001b[0m\n\u001b[0;32m    879\u001b[0m \u001b[1;33m\u001b[0m\u001b[0m\n\u001b[1;32m--> 880\u001b[1;33m         \u001b[0mself\u001b[0m\u001b[1;33m.\u001b[0m\u001b[0m_make_engine\u001b[0m\u001b[1;33m(\u001b[0m\u001b[0mself\u001b[0m\u001b[1;33m.\u001b[0m\u001b[0mengine\u001b[0m\u001b[1;33m)\u001b[0m\u001b[1;33m\u001b[0m\u001b[1;33m\u001b[0m\u001b[0m\n\u001b[0m\u001b[0;32m    881\u001b[0m \u001b[1;33m\u001b[0m\u001b[0m\n\u001b[0;32m    882\u001b[0m     \u001b[1;32mdef\u001b[0m \u001b[0mclose\u001b[0m\u001b[1;33m(\u001b[0m\u001b[0mself\u001b[0m\u001b[1;33m)\u001b[0m\u001b[1;33m:\u001b[0m\u001b[1;33m\u001b[0m\u001b[1;33m\u001b[0m\u001b[0m\n",
      "\u001b[1;32mD:\\Users\\German\\anaconda3\\lib\\site-packages\\pandas\\io\\parsers.py\u001b[0m in \u001b[0;36m_make_engine\u001b[1;34m(self, engine)\u001b[0m\n\u001b[0;32m   1112\u001b[0m     \u001b[1;32mdef\u001b[0m \u001b[0m_make_engine\u001b[0m\u001b[1;33m(\u001b[0m\u001b[0mself\u001b[0m\u001b[1;33m,\u001b[0m \u001b[0mengine\u001b[0m\u001b[1;33m=\u001b[0m\u001b[1;34m\"c\"\u001b[0m\u001b[1;33m)\u001b[0m\u001b[1;33m:\u001b[0m\u001b[1;33m\u001b[0m\u001b[1;33m\u001b[0m\u001b[0m\n\u001b[0;32m   1113\u001b[0m         \u001b[1;32mif\u001b[0m \u001b[0mengine\u001b[0m \u001b[1;33m==\u001b[0m \u001b[1;34m\"c\"\u001b[0m\u001b[1;33m:\u001b[0m\u001b[1;33m\u001b[0m\u001b[1;33m\u001b[0m\u001b[0m\n\u001b[1;32m-> 1114\u001b[1;33m             \u001b[0mself\u001b[0m\u001b[1;33m.\u001b[0m\u001b[0m_engine\u001b[0m \u001b[1;33m=\u001b[0m \u001b[0mCParserWrapper\u001b[0m\u001b[1;33m(\u001b[0m\u001b[0mself\u001b[0m\u001b[1;33m.\u001b[0m\u001b[0mf\u001b[0m\u001b[1;33m,\u001b[0m \u001b[1;33m**\u001b[0m\u001b[0mself\u001b[0m\u001b[1;33m.\u001b[0m\u001b[0moptions\u001b[0m\u001b[1;33m)\u001b[0m\u001b[1;33m\u001b[0m\u001b[1;33m\u001b[0m\u001b[0m\n\u001b[0m\u001b[0;32m   1115\u001b[0m         \u001b[1;32melse\u001b[0m\u001b[1;33m:\u001b[0m\u001b[1;33m\u001b[0m\u001b[1;33m\u001b[0m\u001b[0m\n\u001b[0;32m   1116\u001b[0m             \u001b[1;32mif\u001b[0m \u001b[0mengine\u001b[0m \u001b[1;33m==\u001b[0m \u001b[1;34m\"python\"\u001b[0m\u001b[1;33m:\u001b[0m\u001b[1;33m\u001b[0m\u001b[1;33m\u001b[0m\u001b[0m\n",
      "\u001b[1;32mD:\\Users\\German\\anaconda3\\lib\\site-packages\\pandas\\io\\parsers.py\u001b[0m in \u001b[0;36m__init__\u001b[1;34m(self, src, **kwds)\u001b[0m\n\u001b[0;32m   1889\u001b[0m         \u001b[0mkwds\u001b[0m\u001b[1;33m[\u001b[0m\u001b[1;34m\"usecols\"\u001b[0m\u001b[1;33m]\u001b[0m \u001b[1;33m=\u001b[0m \u001b[0mself\u001b[0m\u001b[1;33m.\u001b[0m\u001b[0musecols\u001b[0m\u001b[1;33m\u001b[0m\u001b[1;33m\u001b[0m\u001b[0m\n\u001b[0;32m   1890\u001b[0m \u001b[1;33m\u001b[0m\u001b[0m\n\u001b[1;32m-> 1891\u001b[1;33m         \u001b[0mself\u001b[0m\u001b[1;33m.\u001b[0m\u001b[0m_reader\u001b[0m \u001b[1;33m=\u001b[0m \u001b[0mparsers\u001b[0m\u001b[1;33m.\u001b[0m\u001b[0mTextReader\u001b[0m\u001b[1;33m(\u001b[0m\u001b[0msrc\u001b[0m\u001b[1;33m,\u001b[0m \u001b[1;33m**\u001b[0m\u001b[0mkwds\u001b[0m\u001b[1;33m)\u001b[0m\u001b[1;33m\u001b[0m\u001b[1;33m\u001b[0m\u001b[0m\n\u001b[0m\u001b[0;32m   1892\u001b[0m         \u001b[0mself\u001b[0m\u001b[1;33m.\u001b[0m\u001b[0munnamed_cols\u001b[0m \u001b[1;33m=\u001b[0m \u001b[0mself\u001b[0m\u001b[1;33m.\u001b[0m\u001b[0m_reader\u001b[0m\u001b[1;33m.\u001b[0m\u001b[0munnamed_cols\u001b[0m\u001b[1;33m\u001b[0m\u001b[1;33m\u001b[0m\u001b[0m\n\u001b[0;32m   1893\u001b[0m \u001b[1;33m\u001b[0m\u001b[0m\n",
      "\u001b[1;32mpandas\\_libs\\parsers.pyx\u001b[0m in \u001b[0;36mpandas._libs.parsers.TextReader.__cinit__\u001b[1;34m()\u001b[0m\n",
      "\u001b[1;32mpandas\\_libs\\parsers.pyx\u001b[0m in \u001b[0;36mpandas._libs.parsers.TextReader._setup_parser_source\u001b[1;34m()\u001b[0m\n",
      "\u001b[1;31mFileNotFoundError\u001b[0m: [Errno 2] File C:\\Users\\56974\\GitHub\\archivos mios\\clasificacion\\personal loan banco\\UniversalBank.csv does not exist: 'C:\\\\Users\\\\56974\\\\GitHub\\\\archivos mios\\\\clasificacion\\\\personal loan banco\\\\UniversalBank.csv'"
     ]
    }
   ],
   "source": [
    "data=pd.read_csv(r'C:\\Users\\56974\\GitHub\\archivos mios\\clasificacion\\personal loan banco\\UniversalBank.csv')"
   ]
  },
  {
   "cell_type": "code",
   "execution_count": null,
   "metadata": {},
   "outputs": [],
   "source": [
    "data.head()"
   ]
  },
  {
   "cell_type": "markdown",
   "metadata": {},
   "source": [
    "# Examinando la información"
   ]
  },
  {
   "cell_type": "code",
   "execution_count": null,
   "metadata": {},
   "outputs": [],
   "source": [
    "data.shape"
   ]
  },
  {
   "cell_type": "code",
   "execution_count": null,
   "metadata": {},
   "outputs": [],
   "source": [
    "data.info()"
   ]
  },
  {
   "cell_type": "code",
   "execution_count": null,
   "metadata": {},
   "outputs": [],
   "source": [
    "data.describe()"
   ]
  },
  {
   "cell_type": "markdown",
   "metadata": {},
   "source": [
    "* Al observar el componente count, notamos como no se presentan valores nulos, de todas formas se confirmará mas adelante.\n",
    "* El dataset no presenta mayor informacion de las variables, por lo tanto pondre lo que parece la deduccion mas obvia de estas: .- ID: clasificacion unica del cliente\n",
    "       .- ZIP code: codigo postal \n",
    "       .- Family: cantidad de personas por familia\n",
    "       .- CCAvf: promedio mensual del gasto en la tarjeta de credito\n",
    "       .- CD Account: certificado de deposito\n",
    "       \n",
    "       "
   ]
  },
  {
   "cell_type": "code",
   "execution_count": null,
   "metadata": {},
   "outputs": [],
   "source": [
    "#promedio de los datos segun si obtienen el personal loan o no.\n",
    "data.groupby('Personal Loan').mean()"
   ]
  },
  {
   "cell_type": "markdown",
   "metadata": {},
   "source": [
    "* Se ve como el promedio en la edad es similar tanto para recibir como rechazar el prestamo, por lo tanto no parece ser determinante la edad en la decision final.\n",
    "\n",
    "* se ve como los ingresos resultan ser influyentes en la toma de decision.\n",
    "\n",
    "* de forma similar tener una alta hipoteca (mortgage) y promedio de la tarjeta de credito (ccavg) parece influir en el personal loan. Tambien aunque menos notorio el certificado de deposito"
   ]
  },
  {
   "cell_type": "code",
   "execution_count": null,
   "metadata": {},
   "outputs": [],
   "source": [
    "#promedio de los datos segun si el nivel de educacion.\n",
    "data.groupby('Education').mean()"
   ]
  },
  {
   "cell_type": "markdown",
   "metadata": {},
   "source": [
    "* se ve como los ingresos promedio son mayores para la educacion 1, si asumimos que mas educacion equivale a mayor ingreso, la educacion 1 debera ser de nivel universitario o superior.\n",
    "\n",
    "* de igual forma se aprecia que las variables que estan asociadas a tener un mayor ingreso tambien son mas altas en la educacion 1, como ccavg y mortgage"
   ]
  },
  {
   "cell_type": "code",
   "execution_count": null,
   "metadata": {},
   "outputs": [],
   "source": [
    "# comprobar que no existan valores nulos\n",
    "data.isnull().sum()"
   ]
  },
  {
   "cell_type": "code",
   "execution_count": null,
   "metadata": {},
   "outputs": [],
   "source": [
    "#comprobaremos que no hayan columnas repetidas en el dataframe\n",
    "data[data.duplicated(keep=False)]"
   ]
  },
  {
   "cell_type": "code",
   "execution_count": null,
   "metadata": {},
   "outputs": [],
   "source": [
    "data.shape"
   ]
  },
  {
   "cell_type": "markdown",
   "metadata": {},
   "source": [
    "# Visualización del data "
   ]
  },
  {
   "cell_type": "code",
   "execution_count": null,
   "metadata": {},
   "outputs": [],
   "source": [
    "data.head()"
   ]
  },
  {
   "cell_type": "code",
   "execution_count": null,
   "metadata": {},
   "outputs": [],
   "source": [
    "#mapa de calor se ve cortado por problemas en libreria matplotlib 3.1.1\n",
    "plt.figure(figsize=(20,15))\n",
    "sns.heatmap(data.corr(), annot = True,)\n",
    "plt.title('Mapa de calor variables del dataset', fontsize = 20)"
   ]
  },
  {
   "cell_type": "markdown",
   "metadata": {},
   "source": [
    "* Se ve como edad y experiencia tiene una gran correlacion, es un valor esperado ya que la tendencia deberia ser que una persona con más edad deberia llevar más tiempo trabajando.\n",
    "\n",
    "* Se aprecia una correlacion muy negativa entre educacion e ingresos, otro valor esperado ya que mayor educacion puede ir de la mano con mejores puestos de trabajo y por lo tanto mejores salarios.\n",
    "\n",
    "* Se observo una correlacion positiva para ingresos y los prestamos, tmabien es de esperar que los bancos realicen prestamos en base a los ingresos de sus clientes.\n",
    "\n",
    "* Otra relacion esperada es la correlacion positiva entre los ingresos y el promedio de uso de la tarjeta de credito (CCavg) \n",
    "\n",
    "* Por ultimo, en cuanto a ingresos, una correlacion no tan predecible es la negativa entre estos y la cantidad de familiares.\n",
    "\n",
    "* Se aprecia una correlacion positiva entre los prestamos y el CCavg y el certificado de deposito (CD)"
   ]
  },
  {
   "cell_type": "code",
   "execution_count": null,
   "metadata": {},
   "outputs": [],
   "source": [
    "#Cantidad de valores unicos para el codigo postal\n",
    "len(data['ZIP Code'].unique())"
   ]
  },
  {
   "cell_type": "code",
   "execution_count": 24,
   "metadata": {},
   "outputs": [
    {
     "data": {
      "text/plain": [
       "Text(0, 0.5, 'ingresos')"
      ]
     },
     "execution_count": 24,
     "metadata": {},
     "output_type": "execute_result"
    },
    {
     "data": {
      "image/png": "[encoded data removed]",
      "text/plain": [
       "<Figure size 432x288 with 1 Axes>"
      ]
     },
     "metadata": {
      "needs_background": "light"
     },
     "output_type": "display_data"
    }
   ],
   "source": [
    "#grafico de dispercion de codigo postal vs ingresos (codigo postal va desde 9307 hasta 96651)\n",
    "plt.scatter(data['ZIP Code'],data['Income'])\n",
    "plt.xticks(rotation=90)\n",
    "plt.xlabel(\"Codigo postal\",fontweight = 'bold')\n",
    "plt.ylabel(\"ingresos\",fontweight = 'bold')"
   ]
  },
  {
   "cell_type": "markdown",
   "metadata": {},
   "source": [
    "* vemos que existe un valor alejado del resto, al ver la descripcion de la data es el valor minimo y como es el unico que existe se asume como un error en la data. Por lo tanto se eliminara el conjunto de datos correspondiente a ese valor y se graficara nuevamente"
   ]
  },
  {
   "cell_type": "code",
   "execution_count": 25,
   "metadata": {},
   "outputs": [
    {
     "data": {
      "text/plain": [
       "1"
      ]
     },
     "execution_count": 25,
     "metadata": {},
     "output_type": "execute_result"
    }
   ],
   "source": [
    "#comprobamos que ese valor es unico en el dataset\n",
    "(data['ZIP Code']==9307).sum()"
   ]
  },
  {
   "cell_type": "code",
   "execution_count": 26,
   "metadata": {},
   "outputs": [
    {
     "data": {
      "text/html": [
       "<div>\n",
       "<style scoped>\n",
       "    .dataframe tbody tr th:only-of-type {\n",
       "        vertical-align: middle;\n",
       "    }\n",
       "\n",
       "    .dataframe tbody tr th {\n",
       "        vertical-align: top;\n",
       "    }\n",
       "\n",
       "    .dataframe thead th {\n",
       "        text-align: right;\n",
       "    }\n",
       "</style>\n",
       "<table border=\"1\" class=\"dataframe\">\n",
       "  <thead>\n",
       "    <tr style=\"text-align: right;\">\n",
       "      <th></th>\n",
       "      <th>ID</th>\n",
       "      <th>Age</th>\n",
       "      <th>Experience</th>\n",
       "      <th>Income</th>\n",
       "      <th>ZIP Code</th>\n",
       "      <th>Family</th>\n",
       "      <th>CCAvg</th>\n",
       "      <th>Education</th>\n",
       "      <th>Mortgage</th>\n",
       "      <th>Personal Loan</th>\n",
       "      <th>Securities Account</th>\n",
       "      <th>CD Account</th>\n",
       "      <th>Online</th>\n",
       "      <th>CreditCard</th>\n",
       "    </tr>\n",
       "  </thead>\n",
       "  <tbody>\n",
       "    <tr>\n",
       "      <td>count</td>\n",
       "      <td>4999.000000</td>\n",
       "      <td>4999.000000</td>\n",
       "      <td>4999.000000</td>\n",
       "      <td>4999.000000</td>\n",
       "      <td>4999.000000</td>\n",
       "      <td>4999.000000</td>\n",
       "      <td>4999.000000</td>\n",
       "      <td>4999.000000</td>\n",
       "      <td>4999.000000</td>\n",
       "      <td>4999.000000</td>\n",
       "      <td>4999.000000</td>\n",
       "      <td>4999.000000</td>\n",
       "      <td>4999.000000</td>\n",
       "      <td>4999.000000</td>\n",
       "    </tr>\n",
       "    <tr>\n",
       "      <td>mean</td>\n",
       "      <td>2500.923185</td>\n",
       "      <td>45.337267</td>\n",
       "      <td>20.103621</td>\n",
       "      <td>73.784757</td>\n",
       "      <td>93169.275455</td>\n",
       "      <td>2.396079</td>\n",
       "      <td>1.938206</td>\n",
       "      <td>1.880776</td>\n",
       "      <td>56.510102</td>\n",
       "      <td>0.096019</td>\n",
       "      <td>0.104421</td>\n",
       "      <td>0.060412</td>\n",
       "      <td>0.596719</td>\n",
       "      <td>0.293859</td>\n",
       "    </tr>\n",
       "    <tr>\n",
       "      <td>std</td>\n",
       "      <td>1443.354188</td>\n",
       "      <td>11.464033</td>\n",
       "      <td>11.468892</td>\n",
       "      <td>46.032281</td>\n",
       "      <td>1759.630610</td>\n",
       "      <td>1.147554</td>\n",
       "      <td>1.747731</td>\n",
       "      <td>0.839804</td>\n",
       "      <td>101.720837</td>\n",
       "      <td>0.294647</td>\n",
       "      <td>0.305836</td>\n",
       "      <td>0.238273</td>\n",
       "      <td>0.490605</td>\n",
       "      <td>0.455574</td>\n",
       "    </tr>\n",
       "    <tr>\n",
       "      <td>min</td>\n",
       "      <td>1.000000</td>\n",
       "      <td>23.000000</td>\n",
       "      <td>-3.000000</td>\n",
       "      <td>8.000000</td>\n",
       "      <td>90005.000000</td>\n",
       "      <td>1.000000</td>\n",
       "      <td>0.000000</td>\n",
       "      <td>1.000000</td>\n",
       "      <td>0.000000</td>\n",
       "      <td>0.000000</td>\n",
       "      <td>0.000000</td>\n",
       "      <td>0.000000</td>\n",
       "      <td>0.000000</td>\n",
       "      <td>0.000000</td>\n",
       "    </tr>\n",
       "    <tr>\n",
       "      <td>25%</td>\n",
       "      <td>1251.500000</td>\n",
       "      <td>35.000000</td>\n",
       "      <td>10.000000</td>\n",
       "      <td>39.000000</td>\n",
       "      <td>91911.000000</td>\n",
       "      <td>1.000000</td>\n",
       "      <td>0.700000</td>\n",
       "      <td>1.000000</td>\n",
       "      <td>0.000000</td>\n",
       "      <td>0.000000</td>\n",
       "      <td>0.000000</td>\n",
       "      <td>0.000000</td>\n",
       "      <td>0.000000</td>\n",
       "      <td>0.000000</td>\n",
       "    </tr>\n",
       "    <tr>\n",
       "      <td>50%</td>\n",
       "      <td>2501.000000</td>\n",
       "      <td>45.000000</td>\n",
       "      <td>20.000000</td>\n",
       "      <td>64.000000</td>\n",
       "      <td>93437.000000</td>\n",
       "      <td>2.000000</td>\n",
       "      <td>1.500000</td>\n",
       "      <td>2.000000</td>\n",
       "      <td>0.000000</td>\n",
       "      <td>0.000000</td>\n",
       "      <td>0.000000</td>\n",
       "      <td>0.000000</td>\n",
       "      <td>1.000000</td>\n",
       "      <td>0.000000</td>\n",
       "    </tr>\n",
       "    <tr>\n",
       "      <td>75%</td>\n",
       "      <td>3750.500000</td>\n",
       "      <td>55.000000</td>\n",
       "      <td>30.000000</td>\n",
       "      <td>98.000000</td>\n",
       "      <td>94608.000000</td>\n",
       "      <td>3.000000</td>\n",
       "      <td>2.500000</td>\n",
       "      <td>3.000000</td>\n",
       "      <td>101.000000</td>\n",
       "      <td>0.000000</td>\n",
       "      <td>0.000000</td>\n",
       "      <td>0.000000</td>\n",
       "      <td>1.000000</td>\n",
       "      <td>1.000000</td>\n",
       "    </tr>\n",
       "    <tr>\n",
       "      <td>max</td>\n",
       "      <td>5000.000000</td>\n",
       "      <td>67.000000</td>\n",
       "      <td>43.000000</td>\n",
       "      <td>224.000000</td>\n",
       "      <td>96651.000000</td>\n",
       "      <td>4.000000</td>\n",
       "      <td>10.000000</td>\n",
       "      <td>3.000000</td>\n",
       "      <td>635.000000</td>\n",
       "      <td>1.000000</td>\n",
       "      <td>1.000000</td>\n",
       "      <td>1.000000</td>\n",
       "      <td>1.000000</td>\n",
       "      <td>1.000000</td>\n",
       "    </tr>\n",
       "  </tbody>\n",
       "</table>\n",
       "</div>"
      ],
      "text/plain": [
       "                ID          Age   Experience       Income      ZIP Code  \\\n",
       "count  4999.000000  4999.000000  4999.000000  4999.000000   4999.000000   \n",
       "mean   2500.923185    45.337267    20.103621    73.784757  93169.275455   \n",
       "std    1443.354188    11.464033    11.468892    46.032281   1759.630610   \n",
       "min       1.000000    23.000000    -3.000000     8.000000  90005.000000   \n",
       "25%    1251.500000    35.000000    10.000000    39.000000  91911.000000   \n",
       "50%    2501.000000    45.000000    20.000000    64.000000  93437.000000   \n",
       "75%    3750.500000    55.000000    30.000000    98.000000  94608.000000   \n",
       "max    5000.000000    67.000000    43.000000   224.000000  96651.000000   \n",
       "\n",
       "            Family        CCAvg    Education     Mortgage  Personal Loan  \\\n",
       "count  4999.000000  4999.000000  4999.000000  4999.000000    4999.000000   \n",
       "mean      2.396079     1.938206     1.880776    56.510102       0.096019   \n",
       "std       1.147554     1.747731     0.839804   101.720837       0.294647   \n",
       "min       1.000000     0.000000     1.000000     0.000000       0.000000   \n",
       "25%       1.000000     0.700000     1.000000     0.000000       0.000000   \n",
       "50%       2.000000     1.500000     2.000000     0.000000       0.000000   \n",
       "75%       3.000000     2.500000     3.000000   101.000000       0.000000   \n",
       "max       4.000000    10.000000     3.000000   635.000000       1.000000   \n",
       "\n",
       "       Securities Account   CD Account       Online   CreditCard  \n",
       "count         4999.000000  4999.000000  4999.000000  4999.000000  \n",
       "mean             0.104421     0.060412     0.596719     0.293859  \n",
       "std              0.305836     0.238273     0.490605     0.455574  \n",
       "min              0.000000     0.000000     0.000000     0.000000  \n",
       "25%              0.000000     0.000000     0.000000     0.000000  \n",
       "50%              0.000000     0.000000     1.000000     0.000000  \n",
       "75%              0.000000     0.000000     1.000000     1.000000  \n",
       "max              1.000000     1.000000     1.000000     1.000000  "
      ]
     },
     "execution_count": 26,
     "metadata": {},
     "output_type": "execute_result"
    }
   ],
   "source": [
    "data = data.drop(data[data['ZIP Code']==9307].index)\n",
    "data = data.reset_index(drop=True)\n",
    "#ahora vemos como el valor minimo en zipcode cambio a 90005\n",
    "data.describe()"
   ]
  },
  {
   "cell_type": "code",
   "execution_count": 27,
   "metadata": {},
   "outputs": [
    {
     "data": {
      "text/plain": [
       "(4999, 14)"
      ]
     },
     "execution_count": 27,
     "metadata": {},
     "output_type": "execute_result"
    }
   ],
   "source": [
    "#y vemos que se ha eliminado una columna del dataframe\n",
    "data.shape"
   ]
  },
  {
   "cell_type": "code",
   "execution_count": 28,
   "metadata": {},
   "outputs": [
    {
     "name": "stdout",
     "output_type": "stream",
     "text": [
      "Cantidad de Separacines en el eje x: 14.231263383297645\n",
      "Separacion entre cada valor de x: 443.06666666666666\n",
      "Valor maximo y minimo de la columna ZIP code: 96651 90005\n"
     ]
    }
   ],
   "source": [
    "print('Cantidad de Separacines en el eje x:',(max(data['ZIP Code'])-min(data['ZIP Code']))/467)\n",
    "print('Separacion entre cada valor de x:',(max(data['ZIP Code'])-min(data['ZIP Code']))/15)\n",
    "print('Valor maximo y minimo de la columna ZIP code:',max(data['ZIP Code']),min(data['ZIP Code']))"
   ]
  },
  {
   "cell_type": "code",
   "execution_count": 29,
   "metadata": {},
   "outputs": [
    {
     "data": {
      "text/plain": [
       "Text(0, 0.5, 'ingresos')"
      ]
     },
     "execution_count": 29,
     "metadata": {},
     "output_type": "execute_result"
    },
    {
     "data": {
      "image/png": "[encoded data removed]",
      "text/plain": [
       "<Figure size 432x288 with 1 Axes>"
      ]
     },
     "metadata": {
      "needs_background": "light"
     },
     "output_type": "display_data"
    }
   ],
   "source": [
    "#grafico de dispercion de codigo postal vs ingresos (codigo postal va desde 9307 hasta 96651)\n",
    "plt.scatter(data['ZIP Code'],data['Income'])\n",
    "x=list(range(90005, 96651, 443))# valor minimo, maximo y el aumento entre cada uno para lograr 15 espacios aprox\n",
    "plt.xticks([i for i in x],rotation=90) \n",
    "plt.xlabel(\"Codigo postal\",fontweight = 'bold')\n",
    "plt.ylabel(\"ingresos\",fontweight = 'bold')"
   ]
  },
  {
   "cell_type": "markdown",
   "metadata": {},
   "source": [
    "* Como el ZIP Code representa un lugar en especifico, notamos como este es independiente de los ingresos, es decir, independiente del lugar en que nos fijemos habra gente con mayores ingresos que otros. La excepción seria el ultimo valor"
   ]
  },
  {
   "cell_type": "code",
   "execution_count": 30,
   "metadata": {},
   "outputs": [
    {
     "data": {
      "text/plain": [
       "Text(0.5, 1.0, 'Relacion prestamo personal, por Educacion')"
      ]
     },
     "execution_count": 30,
     "metadata": {},
     "output_type": "execute_result"
    },
    {
     "data": {
      "image/png": "[encoded data removed]",
      "text/plain": [
       "<Figure size 432x288 with 4 Axes>"
      ]
     },
     "metadata": {
      "needs_background": "light"
     },
     "output_type": "display_data"
    }
   ],
   "source": [
    "\n",
    "plt.subplot(2,2,1)\n",
    "sns.countplot(x='Personal Loan',data=data)\n",
    "plt.xlabel(\"prestamos\",fontweight = 'bold')\n",
    "plt.ylabel(\"cantidad\",fontweight = 'bold')\n",
    "plt.title('Relacion de prestamo personal', fontsize = 13, fontweight = 'bold')\n",
    "\n",
    "plt.subplot(2,2,2)\n",
    "plt.tight_layout()\n",
    "sns.countplot(x='Personal Loan',data=data,hue='Family')\n",
    "plt.xlabel(\"prestamos\",fontweight = 'bold')\n",
    "plt.ylabel(\"cantidad\",fontweight = 'bold')\n",
    "plt.title('Relacion prestamo personal, por cantidad de familiares', fontsize = 13, fontweight = 'bold')\n",
    "\n",
    "plt.subplot(2,2,3)\n",
    "sns.countplot(x='Education',data=data,)\n",
    "plt.xlabel(\"Educacion\",fontweight = 'bold')\n",
    "plt.ylabel(\"cantidad\",fontweight = 'bold')\n",
    "plt.title('Relacion en educacion', fontsize = 13, fontweight = 'bold')\n",
    "\n",
    "plt.subplot(2,2,4)\n",
    "sns.countplot(x='Personal Loan',data=data,hue='Education')\n",
    "plt.xlabel(\"prestamos\",fontweight = 'bold')\n",
    "plt.ylabel(\"cantidad\",fontweight = 'bold')\n",
    "plt.title('Relacion prestamo personal, por Educacion', fontsize = 13, fontweight = 'bold')\n"
   ]
  },
  {
   "cell_type": "code",
   "execution_count": 31,
   "metadata": {},
   "outputs": [
    {
     "data": {
      "text/plain": [
       "<matplotlib.axes._subplots.AxesSubplot at 0x205d6758a88>"
      ]
     },
     "execution_count": 31,
     "metadata": {},
     "output_type": "execute_result"
    },
    {
     "data": {
      "image/png": "[encoded data removed]",
      "text/plain": [
       "<Figure size 432x288 with 1 Axes>"
      ]
     },
     "metadata": {
      "needs_background": "light"
     },
     "output_type": "display_data"
    }
   ],
   "source": [
    "#otro grafico de educacion vs personal loan solo por variar la forma en que se pueden hacer y visualizar.\n",
    "pd.crosstab(data['Education'],data['Personal Loan']).plot(kind='bar')"
   ]
  },
  {
   "cell_type": "code",
   "execution_count": 32,
   "metadata": {},
   "outputs": [
    {
     "name": "stdout",
     "output_type": "stream",
     "text": [
      "4519\n",
      "480\n"
     ]
    }
   ],
   "source": [
    "print((data['Personal Loan']==0).sum())\n",
    "print((data['Personal Loan']==1).sum())"
   ]
  },
  {
   "cell_type": "markdown",
   "metadata": {},
   "source": [
    "* vemos que existe una gran diferencia entre gente que se le otorga un prestamo personal y gente que no (prestamos = 10.6% del total). Esto puede generar un problema de sesgo a la hora de realizar el algoritmo (skewed classes)(recordar: \"metricas de error para clases sesgadas\")\n",
    "\n",
    "\n",
    "* por lo tanto una buena forma de evaluar el algoritmo sera utilizando precision y recall\n",
    "\n",
    "\n",
    "* Si fuesemos ejecutivos del banco y quisieramos asegurar que los prestamos se hagan solo a personas que realmente traigan un beneficio, se podria aumentar el umbral de decision, es decir, y=1 <=> h(x)>= umbral, con umbral >= 0,7 por ejemplo, o mas segun se quisiera asegurar los beneficios para el banco, dependeria de lo que se desea como empresa. Esto aumentaria la precision y disminuiria el Recall.\n",
    "\n",
    "\n",
    "* La decision de lo anterior puede basarse en otra metrica, el F1 score."
   ]
  },
  {
   "cell_type": "code",
   "execution_count": 33,
   "metadata": {},
   "outputs": [
    {
     "data": {
      "text/plain": [
       "<matplotlib.axes._subplots.AxesSubplot at 0x205d6878388>"
      ]
     },
     "execution_count": 33,
     "metadata": {},
     "output_type": "execute_result"
    },
    {
     "data": {
      "image/png": "[encoded data removed]",
      "text/plain": [
       "<Figure size 432x288 with 4 Axes>"
      ]
     },
     "metadata": {
      "needs_background": "light"
     },
     "output_type": "display_data"
    }
   ],
   "source": [
    "#regal de sturges para determinar bins del histograma c=1+log2(M) con M= tamaño de la muestra\n",
    "c=math.ceil(1+ math.log2(len(data['Income'])))\n",
    "\n",
    "plt.subplot(2,2,1)\n",
    "sns.distplot(data['Income'],bins=c)\n",
    "\n",
    "plt.subplot(2,2,2)\n",
    "sns.violinplot(data['Personal Loan'], data['Income'])\n",
    "\n",
    "plt.subplot(2,2,3)\n",
    "sns.scatterplot(x='Personal Loan', y='Income', data=data)\n",
    "\n",
    "plt.subplot(2,2,4)\n",
    "sns.boxplot(x=data['Personal Loan'], y=data['Income'])\n",
    "\n"
   ]
  },
  {
   "cell_type": "code",
   "execution_count": 34,
   "metadata": {},
   "outputs": [
    {
     "data": {
      "image/png": "[encoded data removed]",
      "text/plain": [
       "<IPython.core.display.Image object>"
      ]
     },
     "execution_count": 34,
     "metadata": {},
     "output_type": "execute_result"
    }
   ],
   "source": [
    "#recordar\n",
    "Image(filename=r'C:\\Users\\56974\\GitHub\\archivos mios\\clasificacion\\personal loan banco\\grafica de cajas y distribucion.png')\n",
    "\n",
    "#imagen obtenida de https://www.it-swarm.dev/es/python/graficas-de-caja-en-matplotlib-marcadores-y-valores-atipicos/1040918791/"
   ]
  },
  {
   "cell_type": "code",
   "execution_count": 35,
   "metadata": {},
   "outputs": [
    {
     "data": {
      "image/png": "[encoded data removed]",
      "text/plain": [
       "<IPython.core.display.Image object>"
      ]
     },
     "execution_count": 35,
     "metadata": {},
     "output_type": "execute_result"
    }
   ],
   "source": [
    "# Fuente: https://datavizcatalogue.com/ES/metodos/diagrama_de_violin.html#:~:text=Un%20diagrama%20de%20viol%C3%ADn%20se,de%20distribuci%C3%B3n%20de%20los%20datos.\n",
    "Image(filename=r'C:\\Users\\56974\\GitHub\\archivos mios\\clasificacion\\personal loan banco\\diagrama violin.png')"
   ]
  },
  {
   "cell_type": "markdown",
   "metadata": {},
   "source": [
    "#  Algoritmos de clasificacion"
   ]
  },
  {
   "cell_type": "markdown",
   "metadata": {},
   "source": [
    "* regresion logistica\n",
    "\n",
    "* decision tree (arbol de decision)\n",
    "\n",
    "* random forest\n",
    "\n",
    "* support vector machine (SVM)\n",
    "\n",
    "* k-Nearest Neighbors (k vecinos mas cercanos)\n",
    "\n"
   ]
  },
  {
   "cell_type": "markdown",
   "metadata": {},
   "source": [
    "## regresion logistica"
   ]
  },
  {
   "cell_type": "markdown",
   "metadata": {},
   "source": [
    "### seleccion de variables a usar en el modelo "
   ]
  },
  {
   "cell_type": "code",
   "execution_count": 13,
   "metadata": {},
   "outputs": [],
   "source": [
    "from sklearn import datasets\n",
    "from sklearn.feature_selection import RFE\n",
    "from sklearn.linear_model import LogisticRegression"
   ]
  },
  {
   "cell_type": "code",
   "execution_count": 14,
   "metadata": {},
   "outputs": [
    {
     "data": {
      "text/plain": [
       "Index(['ID', 'Age', 'Experience', 'Income', 'ZIP Code', 'Family', 'CCAvg',\n",
       "       'Education', 'Mortgage', 'Personal Loan', 'Securities Account',\n",
       "       'CD Account', 'Online', 'CreditCard'],\n",
       "      dtype='object')"
      ]
     },
     "execution_count": 14,
     "metadata": {},
     "output_type": "execute_result"
    }
   ],
   "source": [
    "#seleccion de columnas\n",
    "data.columns"
   ]
  },
  {
   "cell_type": "markdown",
   "metadata": {},
   "source": [
    "* Se excluira la columna de ID ya que representa a una persona y no tiene valor para la prediccion es unico para cada persona y ZIP Code ya que se vio que no tiene gran importancia para el estudio"
   ]
  },
  {
   "cell_type": "code",
   "execution_count": 15,
   "metadata": {},
   "outputs": [],
   "source": [
    "X=data[['Age', 'Experience', 'Income', 'Family', 'CCAvg',\n",
    "       'Education', 'Mortgage', 'Securities Account',\n",
    "       'CD Account', 'Online', 'CreditCard']]\n",
    "Y=data['Personal Loan']"
   ]
  },
  {
   "cell_type": "code",
   "execution_count": 16,
   "metadata": {},
   "outputs": [],
   "source": [
    "n=11\n",
    "lr=LogisticRegression()"
   ]
  },
  {
   "cell_type": "code",
   "execution_count": 17,
   "metadata": {},
   "outputs": [
    {
     "name": "stderr",
     "output_type": "stream",
     "text": [
      "D:\\Users\\56974\\Anaconda3\\lib\\site-packages\\sklearn\\linear_model\\logistic.py:432: FutureWarning: Default solver will be changed to 'lbfgs' in 0.22. Specify a solver to silence this warning.\n",
      "  FutureWarning)\n"
     ]
    }
   ],
   "source": [
    "#Selección estable de variables independientes con RFE (Recursive Feature Elimination)\n",
    "rfe=RFE(lr,n)\n",
    "rfe= rfe.fit(X,Y)"
   ]
  },
  {
   "cell_type": "code",
   "execution_count": 18,
   "metadata": {},
   "outputs": [
    {
     "name": "stdout",
     "output_type": "stream",
     "text": [
      "[ True  True  True  True  True  True  True  True  True  True  True]\n",
      "[1 1 1 1 1 1 1 1 1 1 1]\n"
     ]
    }
   ],
   "source": [
    "print(rfe.support_)\n",
    "print(rfe.ranking_)"
   ]
  },
  {
   "cell_type": "markdown",
   "metadata": {},
   "source": [
    "* las variables que contienen el valor True o 1 (son dos formas de verlo) son las que estan seleccionadas para ser parte del modelo, en este caso todas pueden ser parte de él.\n",
    "\n",
    "* no ocurrio en este caso, pero si dieran muchos false en el support, se podrian elegir los que tengan ranking cercano a 1 para aumentar el numero de variables \n",
    "\n",
    "* en caso de que fueran muchas variables y muchos valores diferentes se podrian hacer un zip de los 3 valores para tener una mejor visual de estos"
   ]
  },
  {
   "cell_type": "code",
   "execution_count": 21,
   "metadata": {},
   "outputs": [
    {
     "data": {
      "text/plain": [
       "[('Age', True, 1),\n",
       " ('Experience', True, 1),\n",
       " ('Income', True, 1),\n",
       " ('Family', True, 1),\n",
       " ('CCAvg', True, 1),\n",
       " ('Education', True, 1),\n",
       " ('Mortgage', True, 1),\n",
       " ('Securities Account', True, 1),\n",
       " ('CD Account', True, 1),\n",
       " ('Online', True, 1),\n",
       " ('CreditCard', True, 1)]"
      ]
     },
     "execution_count": 21,
     "metadata": {},
     "output_type": "execute_result"
    }
   ],
   "source": [
    "#ejemplo de zip descrito anteriormente\n",
    "z=zip(X,rfe.support_,rfe.ranking_)\n",
    "list(z)"
   ]
  },
  {
   "cell_type": "markdown",
   "metadata": {},
   "source": [
    "### Implementacion del modelo, primero con statsmodels.api"
   ]
  },
  {
   "cell_type": "code",
   "execution_count": 19,
   "metadata": {},
   "outputs": [],
   "source": [
    "# lo que se suele hacer es usar statsmodel para crear un modelo y \"afinarlo\" y luego de lograr elmas optimo utilizar \n",
    "#sklearn para crear el modelo final ya que tiene otras funcionalidades mas profundas.\n",
    "import statsmodels.api as sm"
   ]
  },
  {
   "cell_type": "code",
   "execution_count": 20,
   "metadata": {},
   "outputs": [
    {
     "name": "stdout",
     "output_type": "stream",
     "text": [
      "Optimization terminated successfully.\n",
      "         Current function value: 0.133520\n",
      "         Iterations 9\n"
     ]
    }
   ],
   "source": [
    "logistic_model= sm.Logit(Y,X)\n",
    "result= logistic_model.fit()"
   ]
  },
  {
   "cell_type": "code",
   "execution_count": 21,
   "metadata": {},
   "outputs": [
    {
     "data": {
      "text/html": [
       "<table class=\"simpletable\">\n",
       "<tr>\n",
       "        <td>Model:</td>              <td>Logit</td>      <td>Pseudo R-squared:</td>   <td>0.578</td>  \n",
       "</tr>\n",
       "<tr>\n",
       "  <td>Dependent Variable:</td>   <td>Personal Loan</td>        <td>AIC:</td>        <td>1357.1997</td>\n",
       "</tr>\n",
       "<tr>\n",
       "         <td>Date:</td>        <td>2020-07-05 18:28</td>       <td>BIC:</td>        <td>1428.8888</td>\n",
       "</tr>\n",
       "<tr>\n",
       "   <td>No. Observations:</td>        <td>5000</td>        <td>Log-Likelihood:</td>   <td>-667.60</td> \n",
       "</tr>\n",
       "<tr>\n",
       "       <td>Df Model:</td>             <td>10</td>            <td>LL-Null:</td>       <td>-1581.0</td> \n",
       "</tr>\n",
       "<tr>\n",
       "     <td>Df Residuals:</td>          <td>4989</td>         <td>LLR p-value:</td>     <td>0.0000</td>  \n",
       "</tr>\n",
       "<tr>\n",
       "      <td>Converged:</td>           <td>1.0000</td>           <td>Scale:</td>        <td>1.0000</td>  \n",
       "</tr>\n",
       "<tr>\n",
       "    <td>No. Iterations:</td>        <td>9.0000</td>              <td></td>              <td></td>     \n",
       "</tr>\n",
       "</table>\n",
       "<table class=\"simpletable\">\n",
       "<tr>\n",
       "           <td></td>           <th>Coef.</th>  <th>Std.Err.</th>     <th>z</th>     <th>P>|z|</th> <th>[0.025</th>  <th>0.975]</th> \n",
       "</tr>\n",
       "<tr>\n",
       "  <th>Age</th>                <td>-0.5068</td>  <td>0.0220</td>  <td>-23.0285</td> <td>0.0000</td> <td>-0.5500</td> <td>-0.4637</td>\n",
       "</tr>\n",
       "<tr>\n",
       "  <th>Experience</th>         <td>0.5080</td>   <td>0.0244</td>   <td>20.8289</td> <td>0.0000</td> <td>0.4602</td>  <td>0.5558</td> \n",
       "</tr>\n",
       "<tr>\n",
       "  <th>Income</th>             <td>0.0515</td>   <td>0.0025</td>   <td>20.5369</td> <td>0.0000</td> <td>0.0466</td>  <td>0.0565</td> \n",
       "</tr>\n",
       "<tr>\n",
       "  <th>Family</th>             <td>0.6323</td>   <td>0.0714</td>   <td>8.8551</td>  <td>0.0000</td> <td>0.4923</td>  <td>0.7723</td> \n",
       "</tr>\n",
       "<tr>\n",
       "  <th>CCAvg</th>              <td>0.1115</td>   <td>0.0388</td>   <td>2.8707</td>  <td>0.0041</td> <td>0.0354</td>  <td>0.1876</td> \n",
       "</tr>\n",
       "<tr>\n",
       "  <th>Education</th>          <td>1.7301</td>   <td>0.1111</td>   <td>15.5765</td> <td>0.0000</td> <td>1.5124</td>  <td>1.9477</td> \n",
       "</tr>\n",
       "<tr>\n",
       "  <th>Mortgage</th>           <td>0.0006</td>   <td>0.0005</td>   <td>1.0398</td>  <td>0.2984</td> <td>-0.0005</td> <td>0.0016</td> \n",
       "</tr>\n",
       "<tr>\n",
       "  <th>Securities Account</th> <td>-1.0120</td>  <td>0.2831</td>   <td>-3.5745</td> <td>0.0004</td> <td>-1.5669</td> <td>-0.4571</td>\n",
       "</tr>\n",
       "<tr>\n",
       "  <th>CD Account</th>         <td>3.8155</td>   <td>0.3186</td>   <td>11.9772</td> <td>0.0000</td> <td>3.1911</td>  <td>4.4399</td> \n",
       "</tr>\n",
       "<tr>\n",
       "  <th>Online</th>             <td>-0.7169</td>  <td>0.1539</td>   <td>-4.6585</td> <td>0.0000</td> <td>-1.0186</td> <td>-0.4153</td>\n",
       "</tr>\n",
       "<tr>\n",
       "  <th>CreditCard</th>         <td>-1.1676</td>  <td>0.2013</td>   <td>-5.8008</td> <td>0.0000</td> <td>-1.5621</td> <td>-0.7731</td>\n",
       "</tr>\n",
       "</table>"
      ],
      "text/plain": [
       "<class 'statsmodels.iolib.summary2.Summary'>\n",
       "\"\"\"\n",
       "                          Results: Logit\n",
       "===================================================================\n",
       "Model:               Logit             Pseudo R-squared:  0.578    \n",
       "Dependent Variable:  Personal Loan     AIC:               1357.1997\n",
       "Date:                2020-07-05 18:28  BIC:               1428.8888\n",
       "No. Observations:    5000              Log-Likelihood:    -667.60  \n",
       "Df Model:            10                LL-Null:           -1581.0  \n",
       "Df Residuals:        4989              LLR p-value:       0.0000   \n",
       "Converged:           1.0000            Scale:             1.0000   \n",
       "No. Iterations:      9.0000                                        \n",
       "-------------------------------------------------------------------\n",
       "                    Coef.  Std.Err.    z     P>|z|   [0.025  0.975]\n",
       "-------------------------------------------------------------------\n",
       "Age                -0.5068   0.0220 -23.0285 0.0000 -0.5500 -0.4637\n",
       "Experience          0.5080   0.0244  20.8289 0.0000  0.4602  0.5558\n",
       "Income              0.0515   0.0025  20.5369 0.0000  0.0466  0.0565\n",
       "Family              0.6323   0.0714   8.8551 0.0000  0.4923  0.7723\n",
       "CCAvg               0.1115   0.0388   2.8707 0.0041  0.0354  0.1876\n",
       "Education           1.7301   0.1111  15.5765 0.0000  1.5124  1.9477\n",
       "Mortgage            0.0006   0.0005   1.0398 0.2984 -0.0005  0.0016\n",
       "Securities Account -1.0120   0.2831  -3.5745 0.0004 -1.5669 -0.4571\n",
       "CD Account          3.8155   0.3186  11.9772 0.0000  3.1911  4.4399\n",
       "Online             -0.7169   0.1539  -4.6585 0.0000 -1.0186 -0.4153\n",
       "CreditCard         -1.1676   0.2013  -5.8008 0.0000 -1.5621 -0.7731\n",
       "===================================================================\n",
       "\n",
       "\"\"\""
      ]
     },
     "execution_count": 21,
     "metadata": {},
     "output_type": "execute_result"
    }
   ],
   "source": [
    "result.summary2()"
   ]
  },
  {
   "cell_type": "markdown",
   "metadata": {},
   "source": [
    "* AIC y BIC se usan para comparar las eficiencias en varios modelos\n",
    "* recordar que el P valor se usa para contrastar la hipotesis nula , es decir, mientras mas pequeño es el P valor esa variable es mas significativa para el modelo.\n",
    "\n",
    "* el unico P valor alto parece ser el de mortgage por lo que su relevancia en el modelo podria llegar a ser nula"
   ]
  },
  {
   "cell_type": "markdown",
   "metadata": {},
   "source": [
    "### Implementacion del modelo, con sklearn"
   ]
  },
  {
   "cell_type": "code",
   "execution_count": 33,
   "metadata": {},
   "outputs": [],
   "source": [
    "from sklearn.model_selection import train_test_split\n",
    "from sklearn.linear_model import LogisticRegression\n",
    "from sklearn import metrics"
   ]
  },
  {
   "cell_type": "code",
   "execution_count": 34,
   "metadata": {},
   "outputs": [],
   "source": [
    "X_train, X_test, Y_train, Y_test=train_test_split(X,Y,test_size=0.3, random_state=42)"
   ]
  },
  {
   "cell_type": "code",
   "execution_count": 35,
   "metadata": {},
   "outputs": [
    {
     "name": "stderr",
     "output_type": "stream",
     "text": [
      "D:\\Users\\56974\\Anaconda3\\lib\\site-packages\\sklearn\\linear_model\\logistic.py:432: FutureWarning: Default solver will be changed to 'lbfgs' in 0.22. Specify a solver to silence this warning.\n",
      "  FutureWarning)\n"
     ]
    },
    {
     "data": {
      "text/plain": [
       "LogisticRegression(C=1.0, class_weight=None, dual=False, fit_intercept=True,\n",
       "                   intercept_scaling=1, l1_ratio=None, max_iter=100,\n",
       "                   multi_class='warn', n_jobs=None, penalty='l2',\n",
       "                   random_state=None, solver='warn', tol=0.0001, verbose=0,\n",
       "                   warm_start=False)"
      ]
     },
     "execution_count": 35,
     "metadata": {},
     "output_type": "execute_result"
    }
   ],
   "source": [
    "Regresion_logistica=LogisticRegression()\n",
    "Regresion_logistica.fit(X_train,Y_train)"
   ]
  },
  {
   "cell_type": "code",
   "execution_count": 36,
   "metadata": {},
   "outputs": [
    {
     "data": {
      "text/plain": [
       "array([[9.99721688e-01, 2.78312160e-04],\n",
       "       [6.70020763e-01, 3.29979237e-01],\n",
       "       [9.64680792e-01, 3.53192082e-02],\n",
       "       ...,\n",
       "       [9.92661273e-01, 7.33872695e-03],\n",
       "       [9.61678116e-01, 3.83218839e-02],\n",
       "       [1.50276874e-02, 9.84972313e-01]])"
      ]
     },
     "execution_count": 36,
     "metadata": {},
     "output_type": "execute_result"
    }
   ],
   "source": [
    "#entrega la probabilidad que da el modelo para estar seguro de si debe predecir como 1 o 0\n",
    "y_probs= Regresion_logistica.predict_proba(X_test)\n",
    "y_probs"
   ]
  },
  {
   "cell_type": "markdown",
   "metadata": {},
   "source": [
    "* la primera columna define que tan seguro esta el modelo de lo que predice, mientras la segunda columna es el valor que predijo, por lo tanto como no hemos cambiado el threshold sobre 0,5 es si y bajo es no (1,0)"
   ]
  },
  {
   "cell_type": "code",
   "execution_count": 37,
   "metadata": {},
   "outputs": [
    {
     "data": {
      "text/plain": [
       "array([0, 0, 0, ..., 0, 0, 1], dtype=int64)"
      ]
     },
     "execution_count": 37,
     "metadata": {},
     "output_type": "execute_result"
    }
   ],
   "source": [
    "#prediciones del modelo (ahora resultados no probabilidades)\n",
    "predicciones= Regresion_logistica.predict(X_test)\n",
    "predicciones"
   ]
  },
  {
   "cell_type": "code",
   "execution_count": 38,
   "metadata": {},
   "outputs": [
    {
     "data": {
      "text/plain": [
       "0.9493333333333334"
      ]
     },
     "execution_count": 38,
     "metadata": {},
     "output_type": "execute_result"
    }
   ],
   "source": [
    "metrics.accuracy_score(Y_test,predicciones)"
   ]
  },
  {
   "cell_type": "markdown",
   "metadata": {},
   "source": [
    "* es decir el 94% de los casos coinciden \n",
    "\n",
    "* si aun asi, el 94% de acierto es poco y se necesita más (para captar la mayor cantidad de personas a las que convenga dar (o no) un prestamos) se podria cambiar el umbral como ya se dijo antes"
   ]
  },
  {
   "cell_type": "code",
   "execution_count": 39,
   "metadata": {},
   "outputs": [
    {
     "data": {
      "text/html": [
       "<div>\n",
       "<style scoped>\n",
       "    .dataframe tbody tr th:only-of-type {\n",
       "        vertical-align: middle;\n",
       "    }\n",
       "\n",
       "    .dataframe tbody tr th {\n",
       "        vertical-align: top;\n",
       "    }\n",
       "\n",
       "    .dataframe thead th {\n",
       "        text-align: right;\n",
       "    }\n",
       "</style>\n",
       "<table border=\"1\" class=\"dataframe\">\n",
       "  <thead>\n",
       "    <tr style=\"text-align: right;\">\n",
       "      <th></th>\n",
       "      <th>0</th>\n",
       "      <th>predicciones</th>\n",
       "    </tr>\n",
       "  </thead>\n",
       "  <tbody>\n",
       "    <tr>\n",
       "      <td>0</td>\n",
       "      <td>0.000278</td>\n",
       "      <td>0</td>\n",
       "    </tr>\n",
       "    <tr>\n",
       "      <td>1</td>\n",
       "      <td>0.329979</td>\n",
       "      <td>0</td>\n",
       "    </tr>\n",
       "    <tr>\n",
       "      <td>2</td>\n",
       "      <td>0.035319</td>\n",
       "      <td>0</td>\n",
       "    </tr>\n",
       "    <tr>\n",
       "      <td>3</td>\n",
       "      <td>0.000308</td>\n",
       "      <td>0</td>\n",
       "    </tr>\n",
       "    <tr>\n",
       "      <td>4</td>\n",
       "      <td>0.001811</td>\n",
       "      <td>0</td>\n",
       "    </tr>\n",
       "  </tbody>\n",
       "</table>\n",
       "</div>"
      ],
      "text/plain": [
       "          0  predicciones\n",
       "0  0.000278             0\n",
       "1  0.329979             0\n",
       "2  0.035319             0\n",
       "3  0.000308             0\n",
       "4  0.001811             0"
      ]
     },
     "execution_count": 39,
     "metadata": {},
     "output_type": "execute_result"
    }
   ],
   "source": [
    "#cambiando el threshold\n",
    "prob=y_probs[:,1]\n",
    "prob_df= pd.DataFrame(prob)\n",
    "umbral=0.4\n",
    "prob_df['predicciones']=np.where(prob_df[0]>umbral,1,0)\n",
    "prob_df.head()"
   ]
  },
  {
   "cell_type": "code",
   "execution_count": 40,
   "metadata": {},
   "outputs": [
    {
     "data": {
      "text/plain": [
       "0.9506666666666667"
      ]
     },
     "execution_count": 40,
     "metadata": {},
     "output_type": "execute_result"
    }
   ],
   "source": [
    "metrics.accuracy_score(Y_test,prob_df['predicciones'])"
   ]
  },
  {
   "cell_type": "markdown",
   "metadata": {},
   "source": [
    "* al probar distintos valores de umbral, notamos que el mas optimo al usar 0.5"
   ]
  },
  {
   "cell_type": "markdown",
   "metadata": {},
   "source": [
    "### Validacion cruzada regresion logistica"
   ]
  },
  {
   "cell_type": "markdown",
   "metadata": {},
   "source": [
    "K fold cross validation"
   ]
  },
  {
   "cell_type": "code",
   "execution_count": 41,
   "metadata": {},
   "outputs": [],
   "source": [
    "from sklearn.model_selection import cross_val_score"
   ]
  },
  {
   "cell_type": "code",
   "execution_count": 42,
   "metadata": {},
   "outputs": [
    {
     "name": "stderr",
     "output_type": "stream",
     "text": [
      "D:\\Users\\56974\\Anaconda3\\lib\\site-packages\\sklearn\\linear_model\\logistic.py:432: FutureWarning: Default solver will be changed to 'lbfgs' in 0.22. Specify a solver to silence this warning.\n",
      "  FutureWarning)\n",
      "D:\\Users\\56974\\Anaconda3\\lib\\site-packages\\sklearn\\linear_model\\logistic.py:432: FutureWarning: Default solver will be changed to 'lbfgs' in 0.22. Specify a solver to silence this warning.\n",
      "  FutureWarning)\n",
      "D:\\Users\\56974\\Anaconda3\\lib\\site-packages\\sklearn\\linear_model\\logistic.py:432: FutureWarning: Default solver will be changed to 'lbfgs' in 0.22. Specify a solver to silence this warning.\n",
      "  FutureWarning)\n",
      "D:\\Users\\56974\\Anaconda3\\lib\\site-packages\\sklearn\\linear_model\\logistic.py:432: FutureWarning: Default solver will be changed to 'lbfgs' in 0.22. Specify a solver to silence this warning.\n",
      "  FutureWarning)\n",
      "D:\\Users\\56974\\Anaconda3\\lib\\site-packages\\sklearn\\linear_model\\logistic.py:432: FutureWarning: Default solver will be changed to 'lbfgs' in 0.22. Specify a solver to silence this warning.\n",
      "  FutureWarning)\n",
      "D:\\Users\\56974\\Anaconda3\\lib\\site-packages\\sklearn\\linear_model\\logistic.py:432: FutureWarning: Default solver will be changed to 'lbfgs' in 0.22. Specify a solver to silence this warning.\n",
      "  FutureWarning)\n",
      "D:\\Users\\56974\\Anaconda3\\lib\\site-packages\\sklearn\\linear_model\\logistic.py:432: FutureWarning: Default solver will be changed to 'lbfgs' in 0.22. Specify a solver to silence this warning.\n",
      "  FutureWarning)\n",
      "D:\\Users\\56974\\Anaconda3\\lib\\site-packages\\sklearn\\linear_model\\logistic.py:432: FutureWarning: Default solver will be changed to 'lbfgs' in 0.22. Specify a solver to silence this warning.\n",
      "  FutureWarning)\n",
      "D:\\Users\\56974\\Anaconda3\\lib\\site-packages\\sklearn\\linear_model\\logistic.py:432: FutureWarning: Default solver will be changed to 'lbfgs' in 0.22. Specify a solver to silence this warning.\n",
      "  FutureWarning)\n",
      "D:\\Users\\56974\\Anaconda3\\lib\\site-packages\\sklearn\\linear_model\\logistic.py:432: FutureWarning: Default solver will be changed to 'lbfgs' in 0.22. Specify a solver to silence this warning.\n",
      "  FutureWarning)\n",
      "D:\\Users\\56974\\Anaconda3\\lib\\site-packages\\sklearn\\linear_model\\logistic.py:432: FutureWarning: Default solver will be changed to 'lbfgs' in 0.22. Specify a solver to silence this warning.\n",
      "  FutureWarning)\n",
      "D:\\Users\\56974\\Anaconda3\\lib\\site-packages\\sklearn\\linear_model\\logistic.py:432: FutureWarning: Default solver will be changed to 'lbfgs' in 0.22. Specify a solver to silence this warning.\n",
      "  FutureWarning)\n"
     ]
    },
    {
     "data": {
      "text/plain": [
       "array([0.95923261, 0.94484412, 0.95203837, 0.93764988, 0.94724221,\n",
       "       0.95683453, 0.94964029, 0.9616307 , 0.94951923, 0.94711538,\n",
       "       0.96394231, 0.9375    ])"
      ]
     },
     "execution_count": 42,
     "metadata": {},
     "output_type": "execute_result"
    }
   ],
   "source": [
    "#usaremos el k-fold cross validation\n",
    "scores = cross_val_score(Regresion_logistica,X,Y,scoring='accuracy',cv=12) #cv=12 es la cantidad de iteraciones a realizar\n",
    "scores"
   ]
  },
  {
   "cell_type": "code",
   "execution_count": 43,
   "metadata": {},
   "outputs": [
    {
     "data": {
      "text/plain": [
       "0.950599136075755"
      ]
     },
     "execution_count": 43,
     "metadata": {},
     "output_type": "execute_result"
    }
   ],
   "source": [
    "scores.mean()"
   ]
  },
  {
   "cell_type": "markdown",
   "metadata": {},
   "source": [
    "* como el resultado de la media de hacer CV es cercano al resultado obtenido por el modelo hecho en un principio, se concluye que el modelo generaliza bien.\n",
    "\n",
    "* tambien se observa que el promedio general es cercano a los promedios de error obtenidos en cada iteracion del CV"
   ]
  },
  {
   "cell_type": "markdown",
   "metadata": {},
   "source": [
    "### Matriz de confusion y curva ROC para la regresion logistica"
   ]
  },
  {
   "cell_type": "markdown",
   "metadata": {},
   "source": [
    "* Una curva ROC (curva de característica operativa del recepto) es un gráfico que muestra el rendimiento de un modelo de clasificación en todos los umbrales de clasificación."
   ]
  },
  {
   "cell_type": "code",
   "execution_count": 44,
   "metadata": {},
   "outputs": [],
   "source": [
    "from sklearn import metrics\n",
    "from sklearn.metrics import confusion_matrix\n"
   ]
  },
  {
   "cell_type": "code",
   "execution_count": 45,
   "metadata": {},
   "outputs": [
    {
     "data": {
      "text/plain": [
       "array([[1327,   16],\n",
       "       [  60,   97]], dtype=int64)"
      ]
     },
     "execution_count": 45,
     "metadata": {},
     "output_type": "execute_result"
    }
   ],
   "source": [
    "confusion_matrix(Y_test, predicciones)"
   ]
  },
  {
   "cell_type": "code",
   "execution_count": 46,
   "metadata": {},
   "outputs": [],
   "source": [
    "espc_1, sensi,thresholds =metrics.roc_curve(Y_test,prob)"
   ]
  },
  {
   "cell_type": "code",
   "execution_count": 47,
   "metadata": {},
   "outputs": [
    {
     "name": "stdout",
     "output_type": "stream",
     "text": [
      "Área bajo la curva ROC = 0.965577587964961\n"
     ]
    },
    {
     "data": {
      "image/png": "[encoded data removed]",
      "text/plain": [
       "<Figure size 432x288 with 1 Axes>"
      ]
     },
     "metadata": {
      "needs_background": "light"
     },
     "output_type": "display_data"
    }
   ],
   "source": [
    "plt.plot(espc_1,sensi)#ploteo curva roc\n",
    "diagonalx=[i*0.01 for i in range(100)]#para crear la diagonal\n",
    "diagonaly=[i*0.01 for i in range(100)]#para crear la diagonal\n",
    "plt.plot(diagonalx,diagonaly)\n",
    "plt.xlabel(\"1- especificidad\",fontweight = 'bold')\n",
    "plt.ylabel(\"sensibilidad\",fontweight = 'bold')\n",
    "plt.title('Curva ROC, Regresion logistica', fontsize = 13, fontweight = 'bold')\n",
    "#area bajo la curva (auc)\n",
    "auc= metrics.auc(espc_1,sensi)\n",
    "print('Área bajo la curva ROC =',auc)"
   ]
  },
  {
   "cell_type": "code",
   "execution_count": 48,
   "metadata": {},
   "outputs": [],
   "source": [
    "from sklearn.metrics import classification_report"
   ]
  },
  {
   "cell_type": "code",
   "execution_count": 58,
   "metadata": {},
   "outputs": [
    {
     "name": "stdout",
     "output_type": "stream",
     "text": [
      "              precision    recall  f1-score   support\n",
      "\n",
      "          No       0.96      0.99      0.97      1343\n",
      "          Si       0.86      0.62      0.72       157\n",
      "\n",
      "    accuracy                           0.95      1500\n",
      "   macro avg       0.91      0.80      0.85      1500\n",
      "weighted avg       0.95      0.95      0.95      1500\n",
      "\n"
     ]
    }
   ],
   "source": [
    "print(classification_report(Y_test, predicciones, target_names=['No','Si']))"
   ]
  },
  {
   "cell_type": "markdown",
   "metadata": {},
   "source": [
    "* Precision nos da la calidad de la predicción: ¿qué porcentaje de los que hemos dicho que son la clase positiva, en realidad lo son?\n",
    "\n",
    "* Recall nos da la cantidad: ¿qué porcentaje de la clase positiva hemos sido capaces de identificar?\n",
    "\n",
    "* F1 combina Precision y Recall en una sola medida\n",
    "\n",
    "* La Matriz de Confusión indica qué tipos de errores se cometen"
   ]
  },
  {
   "cell_type": "markdown",
   "metadata": {},
   "source": [
    "### Decision tree y random forest"
   ]
  },
  {
   "cell_type": "code",
   "execution_count": 49,
   "metadata": {},
   "outputs": [],
   "source": [
    "from sklearn.tree import DecisionTreeClassifier"
   ]
  },
  {
   "cell_type": "code",
   "execution_count": null,
   "metadata": {},
   "outputs": [],
   "source": [
    "#min_samples_split representa el numero minimo de observaciones para que el nodo se divida en un subnodo \n",
    "#sin especificar por defecto es 2, se especifica para evitar overfiting\n",
    "tree= DecisionTreeClassifier(criterion='entropy',min_samples_split=20, random_state=99)\n",
    "tree.fit(X_train,Y_train)"
   ]
  },
  {
   "cell_type": "code",
   "execution_count": null,
   "metadata": {},
   "outputs": [],
   "source": [
    "predicciones_tree= tree.predict(X_test)\n",
    "predicciones_tree"
   ]
  },
  {
   "cell_type": "code",
   "execution_count": null,
   "metadata": {},
   "outputs": [],
   "source": [
    "confusion_matrix(Y_test, predicciones_tree)"
   ]
  },
  {
   "cell_type": "code",
   "execution_count": null,
   "metadata": {},
   "outputs": [],
   "source": [
    "metrics.accuracy_score(Y_test,predicciones_tree)"
   ]
  },
  {
   "cell_type": "markdown",
   "metadata": {},
   "source": [
    "* creamos la matriz de confusión para el árbol de decisión, vemos como tiene mas aciertos que la regresion logistica"
   ]
  },
  {
   "cell_type": "markdown",
   "metadata": {},
   "source": [
    "### visualizacion del árbol de decisión"
   ]
  },
  {
   "cell_type": "code",
   "execution_count": 50,
   "metadata": {},
   "outputs": [],
   "source": [
    "#graphviz para plotear archivos .dot\n",
    "from sklearn.tree import export_graphviz"
   ]
  },
  {
   "cell_type": "code",
   "execution_count": null,
   "metadata": {},
   "outputs": [],
   "source": [
    "#creando fichero .dot, guardandolo en la direccion escrita\n",
    "with open(r'C:\\Users\\56974\\GitHub\\archivos mios\\clasificacion\\personal loan banco\\arbol_decision1.dot','w') as dotfile:\n",
    "\n",
    "    export_graphviz(tree, out_file=dotfile, feature_names=X_train.columns)\n",
    "    dotfile.close()\n"
   ]
  },
  {
   "cell_type": "code",
   "execution_count": 51,
   "metadata": {},
   "outputs": [],
   "source": [
    "#graphviz para plotear archivos .dot\n",
    "import os\n",
    "from graphviz import Source"
   ]
  },
  {
   "cell_type": "code",
   "execution_count": null,
   "metadata": {},
   "outputs": [],
   "source": [
    "#abriendo y leyendo el fichero .dot para la visualizacion\n",
    "file = open(r'C:\\Users\\56974\\GitHub\\archivos mios\\clasificacion\\personal loan banco\\arbol_decision1.dot','r')\n",
    "text= file.read()"
   ]
  },
  {
   "cell_type": "code",
   "execution_count": null,
   "metadata": {},
   "outputs": [],
   "source": [
    "Source(text)"
   ]
  },
  {
   "cell_type": "markdown",
   "metadata": {},
   "source": [
    "* recordar: cuanto menor es la entropia mejor (queda mejor clasificada la info).\n",
    "\n",
    "* la lectura es hacia la izquierda valores True y derecha los False en todos los niveles\n",
    "\n",
    "* longitud de 9 para el árbol"
   ]
  },
  {
   "cell_type": "markdown",
   "metadata": {},
   "source": [
    "### Validacion cruzada y poda"
   ]
  },
  {
   "cell_type": "code",
   "execution_count": 52,
   "metadata": {},
   "outputs": [],
   "source": [
    "from sklearn.model_selection import KFold"
   ]
  },
  {
   "cell_type": "code",
   "execution_count": null,
   "metadata": {},
   "outputs": [],
   "source": [
    "for i in range(1,11):\n",
    "    tree2= DecisionTreeClassifier(criterion='entropy',max_depth=i ,min_samples_split=20, random_state=99)\n",
    "    tree2.fit(X,Y)\n",
    "    cv_tree= KFold( n_splits=5, shuffle=True, random_state=99)\n",
    "    scores_tree= cross_val_score(tree2,X,Y,cv=cv_tree, scoring='accuracy',n_jobs=1)\n",
    "    score_mean= np.mean(scores_tree)\n",
    "    print('Score para i=',i,' es de :',score_mean)"
   ]
  },
  {
   "cell_type": "markdown",
   "metadata": {},
   "source": [
    "* vemos que desde i =4 el score se mantiene casi constante en 0,98 y decimales\n",
    "\n",
    "* comparandolo con el que se hizo en el principio el resultado es similar en cuanto a score, pero en el primero se hicieron 9 ramas por lo que se podria realizar con 4 y obtener resultados similares y a menos recursos"
   ]
  },
  {
   "cell_type": "code",
   "execution_count": null,
   "metadata": {},
   "outputs": [],
   "source": [
    "# creare el árbol para 4 ramas\n",
    "tree_4= DecisionTreeClassifier(criterion='entropy',max_depth=4,min_samples_split=20, random_state=99)\n",
    "tree_4.fit(X_train,Y_train)"
   ]
  },
  {
   "cell_type": "code",
   "execution_count": null,
   "metadata": {},
   "outputs": [],
   "source": [
    "predicciones_tree_4= tree_4.predict(X_test)\n",
    "predicciones_tree_4"
   ]
  },
  {
   "cell_type": "code",
   "execution_count": null,
   "metadata": {},
   "outputs": [],
   "source": [
    "confusion_matrix(Y_test, predicciones_tree_4)"
   ]
  },
  {
   "cell_type": "code",
   "execution_count": null,
   "metadata": {},
   "outputs": [],
   "source": [
    "metrics.accuracy_score(Y_test,predicciones_tree_4)"
   ]
  },
  {
   "cell_type": "markdown",
   "metadata": {},
   "source": [
    "### Curva ROC decision tree"
   ]
  },
  {
   "cell_type": "code",
   "execution_count": null,
   "metadata": {},
   "outputs": [],
   "source": [
    "y_probs_tree= tree_4.predict_proba(X_test)\n",
    "prob_tree=y_probs_tree[:,1]\n",
    "espc_1_tree, sensi_tree,thresholds_tree =metrics.roc_curve(Y_test,prob_tree)\n",
    "\n",
    "plt.plot(espc_1_tree,sensi_tree)#ploteo curva roc para el árbol\n",
    "diagonalx=[i*0.01 for i in range(100)]#para crear la diagonal\n",
    "diagonaly=[i*0.01 for i in range(100)]#para crear la diagonal\n",
    "plt.plot(diagonalx,diagonaly)\n",
    "plt.xlabel(\"1- especificidad\",fontweight = 'bold')\n",
    "plt.ylabel(\"sensibilidad\",fontweight = 'bold')\n",
    "plt.title('Curva ROC, decision tree', fontsize = 13, fontweight = 'bold')\n",
    "#area bajo la curva (auc)\n",
    "auc_tree= metrics.auc(espc_1_tree,sensi_tree)\n",
    "print('Área bajo la curva ROC para árbol =',auc_tree)"
   ]
  },
  {
   "cell_type": "code",
   "execution_count": null,
   "metadata": {},
   "outputs": [],
   "source": [
    "#para finalizar, visualizacion del nuevo árbol \n",
    "with open(r'C:\\Users\\56974\\GitHub\\archivos mios\\clasificacion\\personal loan banco\\arbol_decision_4.dot','w') as dotfile:\n",
    "\n",
    "    export_graphviz(tree_4, out_file=dotfile, feature_names=X_train.columns)\n",
    "    dotfile.close()\n",
    "file_4 = open(r'C:\\Users\\56974\\GitHub\\archivos mios\\clasificacion\\personal loan banco\\arbol_decision_4.dot','r')\n",
    "text_4= file_4.read()\n",
    "Source(text_4)"
   ]
  },
  {
   "cell_type": "markdown",
   "metadata": {},
   "source": [
    "# Random forest"
   ]
  },
  {
   "cell_type": "code",
   "execution_count": 53,
   "metadata": {},
   "outputs": [],
   "source": [
    "from sklearn.ensemble import RandomForestClassifier"
   ]
  },
  {
   "cell_type": "code",
   "execution_count": null,
   "metadata": {},
   "outputs": [],
   "source": [
    "#n_jobs= número de trabajos simultaneos; oobs_score= True para obtener resultados de la clasificacion;\n",
    "# n_estimators= 10 para definir el número de árboles que se crearan \n",
    "forest= RandomForestClassifier(n_jobs=2,criterion='entropy', oob_score=True,n_estimators= 100,random_state=99)\n",
    "forest.fit(X,Y)"
   ]
  },
  {
   "cell_type": "code",
   "execution_count": null,
   "metadata": {},
   "outputs": [],
   "source": [
    "#muestra los valores que consensuaron (recordar que en random forest para clasificar es por votos y no promedio\n",
    "# para la decision final)\n",
    "forest.oob_decision_function_"
   ]
  },
  {
   "cell_type": "code",
   "execution_count": null,
   "metadata": {},
   "outputs": [],
   "source": [
    "#para ver la precision del random forest\n",
    "forest.oob_score_"
   ]
  },
  {
   "cell_type": "markdown",
   "metadata": {},
   "source": [
    "* el resultado obtenido es un poco mayor que el obtenido en el árbol de decision por si solo, esto puede variar al hacer variar el n_estimators\n",
    "\n",
    "* Aún si accuracy fuera menor,la técnica random forest es mucho menos sensible a la variación en el conjunto de aprendizaje.\n",
    "\n",
    "* Por lo tanto,la técnica de random forest no siempre nos va a conducir a sistemas con mayor acierto de media que cualquier árbol de decisión. Sin embargo, los random forest garantizan una mayor estabilidad. Estas ventajas son suficientemente importantes para justificar que la complejidad adicional merezca la pena.\n",
    "\n",
    "* si ademas con estos datos se analizara una serie temporal, el random forest asumiria menos riesgo, lo que generaría un drawdown mucho más controlado."
   ]
  },
  {
   "cell_type": "code",
   "execution_count": null,
   "metadata": {},
   "outputs": [],
   "source": [
    "predicciones_RF= forest.predict(X_test)\n",
    "predicciones_RF"
   ]
  },
  {
   "cell_type": "code",
   "execution_count": null,
   "metadata": {},
   "outputs": [],
   "source": [
    "confusion_matrix(Y_test, predicciones_RF)"
   ]
  },
  {
   "cell_type": "markdown",
   "metadata": {},
   "source": [
    "### Curva ROC random forest"
   ]
  },
  {
   "cell_type": "code",
   "execution_count": null,
   "metadata": {},
   "outputs": [],
   "source": [
    "y_probs_RF= forest.predict_proba(X_test)\n",
    "prob_RF=y_probs_RF[:,1]\n",
    "espc_1_RF, sensi_RF,thresholds_RF =metrics.roc_curve(Y_test,prob_RF)\n",
    "\n",
    "plt.plot(espc_1_RF,sensi_RF)#ploteo curva roc para random forest\n",
    "diagonalx=[i*0.01 for i in range(100)]#para crear la diagonal\n",
    "diagonaly=[i*0.01 for i in range(100)]#para crear la diagonal\n",
    "plt.plot(diagonalx,diagonaly)\n",
    "plt.xlabel(\"1- especificidad\",fontweight = 'bold')\n",
    "plt.ylabel(\"sensibilidad\",fontweight = 'bold')\n",
    "plt.title('Curva ROC, random forest', fontsize = 13, fontweight = 'bold')\n",
    "#area bajo la curva (auc)\n",
    "auc_RF= metrics.auc(espc_1_RF,sensi_RF)\n",
    "print('Área bajo la curva ROC para random forest =',auc_RF)"
   ]
  },
  {
   "cell_type": "markdown",
   "metadata": {},
   "source": [
    "# SVM Classifier"
   ]
  },
  {
   "cell_type": "code",
   "execution_count": 54,
   "metadata": {},
   "outputs": [],
   "source": [
    "from matplotlib import style\n",
    "\n",
    "from sklearn import svm\n",
    "from sklearn.model_selection import GridSearchCV"
   ]
  },
  {
   "cell_type": "markdown",
   "metadata": {},
   "source": [
    "este erra el original q nunca termino de correr\n",
    "en kernel usare solo linear debido a la velocidad de mi pc (lento) para reducir los tiempos.\n",
    "\n",
    "param={'kernel':['linear'],\n",
    "       'C':[0.1,1,5,10,50],\n",
    "       'gamma':[0.0001,0.0005,0.001,0.005,0.01]\n",
    "      \n",
    "      }\n",
    "#en gridsearch recordar que cv es cross validation\n",
    "svc=svm.SVC()\n",
    "grid=GridSearchCV(svc,param,cv=5)\n",
    "%time grid.fit(X_train,Y_train)\n"
   ]
  },
  {
   "cell_type": "code",
   "execution_count": null,
   "metadata": {},
   "outputs": [],
   "source": [
    "# en kernel usare solo linear debido a la velocidad de mi pc (lento) para reducir los tiempos.\n",
    "\n",
    "param={'kernel':['linear'],\n",
    "       'C':[0.1,1,5,10],\n",
    "       'gamma':[0.0001,0.0005,0.001,0.005]\n",
    "      \n",
    "      }\n",
    "#en gridsearch recordar que cv es cross validation\n",
    "svc=svm.SVC()\n",
    "grid=GridSearchCV(svc,param,cv=2)\n",
    "%time grid.fit(X_train,Y_train)\n"
   ]
  },
  {
   "cell_type": "code",
   "execution_count": null,
   "metadata": {},
   "outputs": [],
   "source": [
    "print(grid.best_params_)"
   ]
  },
  {
   "cell_type": "markdown",
   "metadata": {},
   "source": [
    "* por problemas de rendimiento de mi pc no se pudo realizar el gridsearch y buscar los parametros optimos"
   ]
  },
  {
   "cell_type": "code",
   "execution_count": 55,
   "metadata": {},
   "outputs": [
    {
     "name": "stdout",
     "output_type": "stream",
     "text": [
      "Wall time: 16.7 s\n"
     ]
    },
    {
     "data": {
      "text/plain": [
       "SVC(C=1, cache_size=200, class_weight=None, coef0=0.0,\n",
       "    decision_function_shape='ovr', degree=3, gamma='auto', kernel='linear',\n",
       "    max_iter=-1, probability=False, random_state=None, shrinking=True,\n",
       "    tol=0.001, verbose=False)"
      ]
     },
     "execution_count": 55,
     "metadata": {},
     "output_type": "execute_result"
    }
   ],
   "source": [
    "SVMC= svm.SVC(kernel='linear',C=1,gamma='auto')\n",
    "%time SVMC.fit(X_train,Y_train)"
   ]
  },
  {
   "cell_type": "code",
   "execution_count": 56,
   "metadata": {},
   "outputs": [
    {
     "data": {
      "text/plain": [
       "array([[1334,    9],\n",
       "       [  70,   87]], dtype=int64)"
      ]
     },
     "execution_count": 56,
     "metadata": {},
     "output_type": "execute_result"
    }
   ],
   "source": [
    "predicciones_svm=SVMC.predict(X_test)\n",
    "confusion_matrix(Y_test,predicciones_svm)"
   ]
  },
  {
   "cell_type": "code",
   "execution_count": 57,
   "metadata": {},
   "outputs": [
    {
     "data": {
      "text/plain": [
       "0.9473333333333334"
      ]
     },
     "execution_count": 57,
     "metadata": {},
     "output_type": "execute_result"
    }
   ],
   "source": [
    "metrics.accuracy_score(Y_test, predicciones_svm)"
   ]
  },
  {
   "cell_type": "markdown",
   "metadata": {},
   "source": [
    "* como no pude realizar el gridsearch, realicé un svm con parametros estándar"
   ]
  },
  {
   "cell_type": "code",
   "execution_count": null,
   "metadata": {},
   "outputs": [],
   "source": []
  },
  {
   "cell_type": "markdown",
   "metadata": {},
   "source": [
    "# KNN"
   ]
  },
  {
   "cell_type": "code",
   "execution_count": 67,
   "metadata": {},
   "outputs": [],
   "source": [
    "from sklearn.neighbors import NearestNeighbors\n",
    "from sklearn import neighbors"
   ]
  },
  {
   "cell_type": "code",
   "execution_count": 81,
   "metadata": {},
   "outputs": [
    {
     "data": {
      "text/plain": [
       "KNeighborsClassifier(algorithm='auto', leaf_size=30, metric='minkowski',\n",
       "                     metric_params=None, n_jobs=None, n_neighbors=3, p=2,\n",
       "                     weights='uniform')"
      ]
     },
     "execution_count": 81,
     "metadata": {},
     "output_type": "execute_result"
    }
   ],
   "source": [
    "knn= neighbors.KNeighborsClassifier(n_neighbors=3)\n",
    "knn.fit(X_train,Y_train)"
   ]
  },
  {
   "cell_type": "code",
   "execution_count": 82,
   "metadata": {},
   "outputs": [
    {
     "data": {
      "text/plain": [
       "0.906"
      ]
     },
     "execution_count": 82,
     "metadata": {},
     "output_type": "execute_result"
    }
   ],
   "source": [
    "accuracy= knn.score(X_test,Y_test)\n",
    "accuracy"
   ]
  },
  {
   "cell_type": "code",
   "execution_count": null,
   "metadata": {},
   "outputs": [],
   "source": []
  }
 ],
 "metadata": {
  "kernelspec": {
   "display_name": "Python 3",
   "language": "python",
   "name": "python3"
  },
  "language_info": {
   "codemirror_mode": {
    "name": "ipython",
    "version": 3
   },
   "file_extension": ".py",
   "mimetype": "text/x-python",
   "name": "python",
   "nbconvert_exporter": "python",
   "pygments_lexer": "ipython3",
   "version": "3.8.3"
  }
 },
 "nbformat": 4,
 "nbformat_minor": 2
}
